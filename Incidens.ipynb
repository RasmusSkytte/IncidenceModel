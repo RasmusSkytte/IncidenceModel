{
 "metadata": {
  "language_info": {
   "codemirror_mode": {
    "name": "ipython",
    "version": 3
   },
   "file_extension": ".py",
   "mimetype": "text/x-python",
   "name": "python",
   "nbconvert_exporter": "python",
   "pygments_lexer": "ipython3",
   "version": "3.8.6-final"
  },
  "orig_nbformat": 2,
  "kernelspec": {
   "name": "python386jvsc74a57bd0180cfae647b0eeb71d4d246c384c29eae3535c48948310bd594e89f12fa41cbb",
   "display_name": "Python 3.8.6 64-bit (conda)"
  },
  "metadata": {
   "interpreter": {
    "hash": "1baa965d5efe3ac65b79dfc60c0d706280b1da80fedb7760faf2759126c4f253"
   }
  }
 },
 "nbformat": 4,
 "nbformat_minor": 2,
 "cells": [
  {
   "source": [
    "This notebook downloads the newest public SSI data and computes the test-adjusted incidence rates"
   ],
   "cell_type": "markdown",
   "metadata": {}
  },
  {
   "cell_type": "code",
   "execution_count": null,
   "metadata": {},
   "outputs": [],
   "source": [
    "import pandas as pd\n",
    "import numpy as np\n",
    "\n",
    "import matplotlib        as mpl\n",
    "import matplotlib.pyplot as plt\n",
    "import matplotlib.dates  as mdates\n",
    "\n",
    "import datetime\n",
    "import urllib\n",
    "import re\n",
    "import os\n",
    "from zipfile import ZipFile\n",
    "from io import BytesIO\n",
    "\n",
    "import rpy2.robjects as ro\n",
    "from rpy2.robjects import pandas2ri\n",
    "pandas2ri.activate()\n",
    "\n",
    "plt.style.use('ggplot')\n",
    "\n",
    "font = {'family' : 'normal',\n",
    "        'size'   : 18}\n",
    "\n",
    "mpl.rc('font', **font)\n"
   ]
  },
  {
   "source": [
    "# Defining some helper functions:"
   ],
   "cell_type": "markdown",
   "metadata": {}
  },
  {
   "cell_type": "code",
   "execution_count": null,
   "metadata": {},
   "outputs": [],
   "source": [
    "def save_dataframe(df, path, filename) :\n",
    "    if not os.path.exists(path) :\n",
    "        os.makedirs(path)\n",
    "\n",
    "    df.to_csv(os.path.join(path, filename))"
   ]
  },
  {
   "cell_type": "code",
   "execution_count": null,
   "metadata": {},
   "outputs": [],
   "source": [
    "def load_municipality_test_data(zfile) :\n",
    "    D = pd.read_csv(zfile.open('Municipality_tested_persons_time_series.csv'), sep=';', index_col=0)\n",
    "    return D.rename(columns={'Copenhagen': 'København'})\n",
    "\n",
    "def load_municipality_case_data(zfile) :\n",
    "    D = pd.read_csv(zfile.open('Municipality_cases_time_series.csv'), sep=';', index_col=0)\n",
    "    return D.rename(columns={'Copenhagen': 'København'})\n",
    "\n",
    "def load_municipality_summery_data(zfile) :\n",
    "    D = pd.read_csv(zfile.open('Municipality_test_pos.csv'), sep = ';', index_col=0, usecols=['Kommune_(navn)','Befolkningstal'], dtype={'Befolkningstal': 'str'})\n",
    "    return D['Befolkningstal'].str.replace('.','', regex=False).astype(int)"
   ]
  },
  {
   "cell_type": "code",
   "execution_count": null,
   "metadata": {},
   "outputs": [],
   "source": [
    "def newest_SSI_filename() :\n",
    "\n",
    "    date = datetime.datetime.now()\n",
    "    if date.hour < 14 :\n",
    "        date -= datetime.timedelta(days=1)\n",
    "\n",
    "    return date.strftime('%Y_%m_%d')"
   ]
  },
  {
   "cell_type": "code",
   "execution_count": null,
   "metadata": {},
   "outputs": [],
   "source": [
    "def SSI_data_missing(filename) :\n",
    "    # Check if it is already downloaded\n",
    "    # If it does not exist return flag\n",
    "    if not os.path.exists(filename) :\n",
    "        return True\n",
    "    else :\n",
    "        return False\n"
   ]
  },
  {
   "cell_type": "code",
   "execution_count": null,
   "metadata": {},
   "outputs": [],
   "source": [
    "def download_SSI_data(date=None,\n",
    "                      download_municipality_tests=True,\n",
    "                      path_municipality_tests=None,\n",
    "                      download_municipality_cases=True,\n",
    "                      path_municipality_cases=None,\n",
    "                      download_municipality_summery=True,\n",
    "                      path_municipality_summery=None) :\n",
    "\n",
    "    url = 'https://covid19.ssi.dk/overvagningsdata/download-fil-med-overvaagningdata'\n",
    "\n",
    "    with urllib.request.urlopen(url) as response :\n",
    "        html = str(response.read())\n",
    "\n",
    "    date_SSI = datetime.datetime.strptime(date, '%Y_%m_%d').strftime('%d%m%Y')\n",
    "\n",
    "    s = re.search(f'rapport-{date_SSI}', html, re.IGNORECASE)\n",
    "    if s is None :\n",
    "        raise ValueError(f'No data found for date: {date}')\n",
    "\n",
    "    data_url = html[s.start()-80:s.end()+5]\n",
    "    data_url = data_url.split('=\"')[1] + \".zip\"\n",
    "\n",
    "    filename = date + '.csv'\n",
    "\n",
    "    with ZipFile(BytesIO(urllib.request.urlopen(data_url).read())) as zfile :\n",
    "\n",
    "        if download_municipality_tests :\n",
    "            df = load_municipality_test_data(zfile)\n",
    "            save_dataframe(df, path_municipality_tests, filename)\n",
    "\n",
    "        if download_municipality_cases :\n",
    "            df = load_municipality_case_data(zfile)\n",
    "            save_dataframe(df, path_municipality_cases, filename)\n",
    "\n",
    "        if download_municipality_summery :\n",
    "            df = load_municipality_summery_data(zfile)\n",
    "            save_dataframe(df, path_municipality_summery, filename)\n"
   ]
  },
  {
   "cell_type": "code",
   "execution_count": null,
   "metadata": {},
   "outputs": [],
   "source": [
    "def get_SSI_data(date='newest', return_data=False, return_name=False, verbose=False) :\n",
    "\n",
    "    if date.lower() == 'newest' :\n",
    "        date = newest_SSI_filename()\n",
    "\n",
    "    filename = date + '.csv'\n",
    "\n",
    "    f_municipality_tests   = os.path.join('municipalityTests',   filename)\n",
    "    f_municipality_cases   = os.path.join('municipalityCases',   filename)\n",
    "    f_municipality_summery = os.path.join('municipalitySummery', filename)\n",
    "\n",
    "    download_municipality_tests   = SSI_data_missing(f_municipality_tests)\n",
    "    download_municipality_cases   = SSI_data_missing(f_municipality_cases)\n",
    "    download_municipality_summery = SSI_data_missing(f_municipality_summery)\n",
    "\n",
    "    if download_municipality_tests or download_municipality_cases or download_municipality_summery :\n",
    "\n",
    "        if verbose:\n",
    "            print(\"Downloading new data\")\n",
    "\n",
    "        download_SSI_data(date=date,\n",
    "                          download_municipality_tests=download_municipality_tests,\n",
    "                          path_municipality_tests=os.path.dirname(f_municipality_tests),\n",
    "                          download_municipality_cases=download_municipality_cases,\n",
    "                          path_municipality_cases=os.path.dirname(f_municipality_cases),\n",
    "                          download_municipality_summery=download_municipality_summery,\n",
    "                          path_municipality_summery=os.path.dirname(f_municipality_summery))\n",
    "\n",
    "    if return_data :\n",
    "        # Load the dataframes\n",
    "        df_municipality_tests   = pd.read_csv(f_municipality_tests,   index_col=0)\n",
    "        df_municipality_cases   = pd.read_csv(f_municipality_cases,   index_col=0)\n",
    "        df_municipality_summery = pd.read_csv(f_municipality_summery, index_col=0)\n",
    "\n",
    "        return df_municipality_cases, df_municipality_tests, df_municipality_summery\n",
    "\n",
    "    if return_name :\n",
    "        return date"
   ]
  },
  {
   "cell_type": "code",
   "execution_count": null,
   "metadata": {},
   "outputs": [],
   "source": [
    "date = newest_SSI_filename()\r\n",
    "Pm, Tm, Dm = get_SSI_data(date=date, return_data=True)\r\n",
    "Dm = Dm.transpose()\r\n",
    "\r\n",
    "# Ensure overlap\r\n",
    "t1 = pd.to_datetime(Tm.index)\r\n",
    "t2 = pd.to_datetime(Pm.index)\r\n",
    "\r\n",
    "intersec = t1.intersection(t2)\r\n",
    "\r\n",
    "Tm = Tm.loc[t1.isin(intersec)]\r\n",
    "Pm = Pm.loc[t2.isin(intersec)]\r\n",
    "\r\n",
    "t = pd.to_datetime(Tm.index)\r\n",
    "\r\n",
    "Tm.index = t\r\n",
    "Pm.index = t\r\n",
    "\r\n",
    "T = Tm.sum(axis=1)\r\n",
    "P = Pm.sum(axis=1)\r\n"
   ]
  },
  {
   "source": [
    "# Set the analysis parameters"
   ],
   "cell_type": "markdown",
   "metadata": {}
  },
  {
   "cell_type": "code",
   "execution_count": null,
   "metadata": {},
   "outputs": [],
   "source": [
    "beta = 0.55\n",
    "\n",
    "# Choose interval\n",
    "end_date   = datetime.datetime.strptime(date, '%Y_%m_%d').date() - datetime.timedelta(days=2)\n",
    "start_date = end_date - datetime.timedelta(days=90)\n",
    "\n",
    "\n",
    "tt = pd.date_range(start=start_date, end=end_date, freq='d')"
   ]
  },
  {
   "source": [
    "# Plot the number of daily PCR tests"
   ],
   "cell_type": "markdown",
   "metadata": {}
  },
  {
   "cell_type": "code",
   "execution_count": null,
   "metadata": {},
   "outputs": [],
   "source": [
    "plt.figure(figsize=(12, 6))\n",
    "plt.scatter(t, T)\n",
    "\n",
    "ax = plt.gca()\n",
    "\n",
    "months     = mdates.MonthLocator()\n",
    "months_fmt = mdates.DateFormatter('%b')\n",
    "\n",
    "ax.xaxis.set_major_locator(months)\n",
    "ax.xaxis.set_major_formatter(months_fmt)\n",
    "\n",
    "plt.ylabel('Antal daglige PCR-tests')\n",
    "plt.ylim(0, 200_000)\n",
    "plt.locator_params(axis='y', nbins=6)\n",
    "\n",
    "ax.get_yaxis().set_major_formatter(\n",
    "mpl.ticker.FuncFormatter(lambda x, p: format(int(x), ',').replace(',','.')))\n",
    "\n",
    "plt.xlim(start_date, end_date)\n",
    "\n",
    "plt.savefig(f'National_test_counts_{date}.png')\n",
    "plt.show()\n"
   ]
  },
  {
   "source": [
    "# Prepare the GLM predictor"
   ],
   "cell_type": "markdown",
   "metadata": {}
  },
  {
   "cell_type": "code",
   "execution_count": null,
   "metadata": {},
   "outputs": [],
   "source": [
    "def predict(df, start_date, end_date, N=100_000) :\n",
    "    \n",
    "    df['X'] = 0.55 * np.log(df['tests'])\n",
    "    \n",
    "    dfp = pd.DataFrame([0.55 * np.log(N)], columns=['X'])\n",
    "    rdfp = ro.conversion.py2rpy(dfp)\n",
    "    \n",
    "    # Trin the model on each 7 day period\n",
    "    out = []\n",
    "    T = pd.date_range(start=start_date, end=end_date, freq='D') \n",
    "    for d in T : \n",
    "        ind = pd.date_range(end=d, periods=7)\n",
    "        rdf = ro.conversion.py2rpy(df.loc[ind])\n",
    "        qpoisson = ro.r.glm('pos ~ 1 + offset(X)', data = rdf, family = ro.r('quasipoisson'))\n",
    "        out.append(np.exp(ro.r.predict(qpoisson, rdfp)))\n",
    "\n",
    "    return pd.Series(np.squeeze(np.array(out)), index=T)"
   ]
  },
  {
   "cell_type": "code",
   "execution_count": null,
   "metadata": {},
   "outputs": [],
   "source": [
    "def incidence(P, start_date, end_date, N=5_840_000) :\n",
    "\n",
    "    out = []\n",
    "    K = len(P)\n",
    "    \n",
    "    for d in pd.date_range(start=start_date, end=end_date, freq='D') :\n",
    "        ind = pd.date_range(end=d, periods=7)\n",
    "        out.append(P.loc[ind].sum() * 1e5 / N)\n",
    "    return np.array(out)"
   ]
  },
  {
   "source": [
    "# Plot the daily incidence"
   ],
   "cell_type": "markdown",
   "metadata": {}
  },
  {
   "cell_type": "code",
   "execution_count": null,
   "metadata": {},
   "outputs": [],
   "source": [
    "plt.figure(figsize=(12, 6))\n",
    "plt.scatter(tt, P.loc[tt] * 1e5 / 5_840_000, color='b')\n",
    "plt.scatter(tt, P.loc[tt] * (1e5 / T.loc[tt]) ** beta * 1e5 / 5_840_000, color='r')\n",
    "\n",
    "ax = plt.gca()\n",
    "\n",
    "months     = mdates.MonthLocator()\n",
    "months_fmt = mdates.DateFormatter('%b')\n",
    "\n",
    "ax.xaxis.set_major_locator(months)\n",
    "ax.xaxis.set_major_formatter(months_fmt)\n",
    "\n",
    "plt.ylabel('Daglig incidens (pr. 100.000)')\n",
    "plt.ylim(0, 50)\n",
    "plt.locator_params(axis='y', nbins=6)\n",
    "\n",
    "ax.get_yaxis().set_major_formatter(\n",
    "mpl.ticker.FuncFormatter(lambda x, p: format(int(x), ',').replace(',','.')))\n",
    "\n",
    "plt.xlim(start_date, end_date)\n",
    "\n",
    "plt.savefig(f'National_incidence_daily_{date}.png')\n",
    "plt.show()"
   ]
  },
  {
   "source": [
    "# Plot the weekly incidence on national level"
   ],
   "cell_type": "markdown",
   "metadata": {}
  },
  {
   "cell_type": "code",
   "execution_count": null,
   "metadata": {},
   "outputs": [],
   "source": [
    "df = pd.DataFrame(zip(T, P), columns=['tests', 'pos'], index=t)\n",
    "\n",
    "sPglm = predict(df, start_date, end_date) * 1e5 / 5_840_000 * 7\n",
    "inci  = incidence(P, start_date, end_date)\n",
    "\n",
    "plt.figure(figsize=(12, 6))\n",
    "plt.scatter(tt, inci,  color='b')\n",
    "plt.scatter(tt, sPglm, color='r')\n",
    "\n",
    "\n",
    "ax = plt.gca()\n",
    "\n",
    "months     = mdates.MonthLocator()\n",
    "months_fmt = mdates.DateFormatter('%b')\n",
    "\n",
    "ax.xaxis.set_major_locator(months)\n",
    "ax.xaxis.set_major_formatter(months_fmt)\n",
    "\n",
    "plt.ylabel('Ugentlig incidens (pr. 100.000)')\n",
    "plt.ylim(0, 350)\n",
    "plt.locator_params(axis='y', nbins=6)\n",
    "\n",
    "ax.get_yaxis().set_major_formatter(\n",
    "mpl.ticker.FuncFormatter(lambda x, p: format(int(x), ',').replace(',','.')))\n",
    "\n",
    "plt.xlim(start_date, end_date)\n",
    "\n",
    "plt.savefig(f'National_incidence_weekly_{date}.png')\n",
    "plt.show()"
   ]
  },
  {
   "source": [
    "# Some example municipalities"
   ],
   "cell_type": "markdown",
   "metadata": {}
  },
  {
   "cell_type": "code",
   "execution_count": null,
   "metadata": {},
   "outputs": [],
   "source": [
    "cols = ['Høje-Taastrup', 'Ringkøbing-Skjern', 'Kolding', 'Hjørring']\n",
    "\n",
    "fig, axes = plt.subplots(nrows=2, ncols=2, sharex=True, sharey=True, figsize=(12, 8))\n",
    "axes = axes.flatten()\n",
    "\n",
    "for col, ax in zip(cols, axes) :\n",
    "\n",
    "    N = Dm[col].to_numpy()\n",
    "\n",
    "    df = pd.DataFrame(zip(Tm[col], Pm[col]), columns=['tests', 'pos'], index=t)\n",
    "\n",
    "    sPglm = predict(df, start_date, end_date, N = N * 0.017) * 100_000 / N * 7\n",
    "    inci  = incidence(Pm[col], start_date, end_date, N = N)\n",
    "\n",
    "    ax.scatter(tt, inci,  color='b')\n",
    "    ax.scatter(tt, sPglm, color='r')\n",
    "\n",
    "    ax.set_title(col)\n",
    "\n",
    "    months     = mdates.MonthLocator()\n",
    "    months_fmt = mdates.DateFormatter('%b')\n",
    "\n",
    "    ax.xaxis.set_major_locator(months)\n",
    "    ax.xaxis.set_major_formatter(months_fmt)\n",
    "\n",
    "plt.locator_params(axis='y', nbins=6)\n",
    "\n",
    "ax.get_yaxis().set_major_formatter(\n",
    "mpl.ticker.FuncFormatter(lambda x, p: format(int(x), ',').replace(',','.')))\n",
    "\n",
    "plt.xlim(start_date, end_date)\n",
    "plt.ylim(0, 400)\n",
    "\n",
    "plt.savefig(f'Municipality_incidence_weekly_{date}.png')\n",
    "plt.show()\n"
   ]
  },
  {
   "source": [
    "# Select your own municipality"
   ],
   "cell_type": "markdown",
   "metadata": {}
  },
  {
   "cell_type": "code",
   "execution_count": null,
   "metadata": {},
   "outputs": [],
   "source": [
    "municipality = 'København'\n",
    "\n",
    "plt.figure(figsize=(12, 8))\n",
    "ax = plt.gca()\n",
    "\n",
    "N = Dm[municipality].to_numpy()\n",
    "\n",
    "df = pd.DataFrame(zip(Tm[municipality], Pm[municipality]), columns=['tests', 'pos'], index=t)\n",
    "\n",
    "sPglm = predict(df, start_date, end_date, N = N * 0.017) * 100_000 / N * 7\n",
    "inci  = incidence(Pm[municipality], start_date, end_date, N = N)\n",
    "\n",
    "ax.scatter(tt, inci,  color='b')\n",
    "ax.scatter(tt, sPglm, color='r')\n",
    "\n",
    "ax.set_title(municipality)\n",
    "\n",
    "months     = mdates.MonthLocator()\n",
    "months_fmt = mdates.DateFormatter('%b')\n",
    "\n",
    "ax.xaxis.set_major_locator(months)\n",
    "ax.xaxis.set_major_formatter(months_fmt)\n",
    "\n",
    "plt.locator_params(axis='y', nbins=6)\n",
    "\n",
    "ax.get_yaxis().set_major_formatter(\n",
    "mpl.ticker.FuncFormatter(lambda x, p: format(int(x), ',').replace(',','.')))\n",
    "\n",
    "plt.ylabel('Ugentlig incidens (pr. 100.000)')\n",
    "plt.xlim(start_date, end_date)\n",
    "plt.ylim(0, None)\n",
    "\n",
    "plt.savefig(f'{municipality}_incidence_weekly_{date}.png')\n",
    "plt.show()\n"
   ]
  }
 ]
}